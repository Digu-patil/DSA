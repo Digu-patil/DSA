{
 "cells": [
  {
   "cell_type": "code",
   "execution_count": null,
   "id": "a8861643",
   "metadata": {},
   "outputs": [],
   "source": [
    "import numpy as np\n",
    "import matplotlib.pyplot as plt\n",
    "from IPython.display import clear_output\n",
    "import time"
   ]
  },
  {
   "cell_type": "code",
   "execution_count": null,
   "id": "c6467f59",
   "metadata": {},
   "outputs": [],
   "source": [
    "\n",
    "\n",
    "for i in "
   ]
  },
  {
   "cell_type": "code",
   "execution_count": 36,
   "id": "8d84ecfa",
   "metadata": {},
   "outputs": [
    {
     "data": {
      "image/png": "[encoded data removed]",
      "text/plain": [
       "<Figure size 640x480 with 1 Axes>"
      ]
     },
     "metadata": {},
     "output_type": "display_data"
    }
   ],
   "source": [
    "size = 10\n",
    "\n",
    "a = np.random.randint(1,10,size)\n",
    "x = np.arange(0,size, 1)\n",
    "\n",
    "\n",
    "for i in range(1,len(a)):\n",
    "    key = a[i]\n",
    "    j = i-1\n",
    "    while j>=0 and a[j]>key:\n",
    "        colors = ['blue']*len(a)\n",
    "        colors[i] = 'orange'\n",
    "        plt.bar(x,a, color = colors)\n",
    "        plt.pause(0.001)\n",
    "        clear_output(wait= True)\n",
    "        a[j+1] = a[j]\n",
    "        j-=1\n",
    "    a[j+1] = key\n",
    "plt.show()"
   ]
  },
  {
   "cell_type": "code",
   "execution_count": null,
   "id": "d52c1165",
   "metadata": {},
   "outputs": [
    {
     "data": {
      "text/plain": [
       "<function __main__.<lambda>(x)>"
      ]
     },
     "execution_count": 18,
     "metadata": {},
     "output_type": "execute_result"
    }
   ],
   "source": [
    "\n"
   ]
  }
 ],
 "metadata": {
  "kernelspec": {
   "display_name": "Python 3",
   "language": "python",
   "name": "python3"
  },
  "language_info": {
   "codemirror_mode": {
    "name": "ipython",
    "version": 3
   },
   "file_extension": ".py",
   "mimetype": "text/x-python",
   "name": "python",
   "nbconvert_exporter": "python",
   "pygments_lexer": "ipython3",
   "version": "3.12.10"
  }
 },
 "nbformat": 4,
 "nbformat_minor": 5
}
