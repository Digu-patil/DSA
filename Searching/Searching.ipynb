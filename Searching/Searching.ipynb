{
 "cells": [
  {
   "cell_type": "code",
   "execution_count": 2,
   "id": "989b564f",
   "metadata": {},
   "outputs": [],
   "source": [
    "import numpy as np"
   ]
  },
  {
   "cell_type": "markdown",
   "id": "93e82e8f",
   "metadata": {},
   "source": [
    "# Binary Search\n",
    "\n",
    "\n",
    "## Pseudo Code\n",
    "1. Get the left most and right most indexes.\n",
    "2. Based on those, get the middle index\n",
    "3. Check if the number we are searching for is < or > or = to the middle index\n",
    "4. If <, then move the left index to middle\n",
    "5. If >, then move the right index to middle\n",
    "6. Keep on repeating steps 1-5 until you fin the number at step 3"
   ]
  },
  {
   "cell_type": "code",
   "execution_count": 38,
   "id": "95477b44",
   "metadata": {},
   "outputs": [
    {
     "data": {
      "text/plain": [
       "array([ 1,  1,  1,  1,  4,  9, 10, 14, 16, 18, 18, 18, 19, 19, 20, 24, 31,\n",
       "       31, 32, 34, 37, 38, 40, 40, 42, 45, 46, 49, 49, 50, 50, 52, 53, 54,\n",
       "       55, 56, 57, 60, 60, 62, 63, 65, 66, 67, 67, 69, 69, 72, 72, 77, 80,\n",
       "       82, 82, 85, 86, 86, 87, 87, 88, 88, 88, 89, 92, 93, 93, 93, 96],\n",
       "      dtype=int32)"
      ]
     },
     "execution_count": 38,
     "metadata": {},
     "output_type": "execute_result"
    }
   ],
   "source": [
    "a = np.random.randint(1,100,67)\n",
    "a.sort()\n",
    "a"
   ]
  },
  {
   "cell_type": "code",
   "execution_count": 63,
   "id": "31e41086",
   "metadata": {},
   "outputs": [
    {
     "name": "stdout",
     "output_type": "stream",
     "text": [
      "0 66\n",
      "0 66 33\n",
      "0 33 16\n",
      "0 16 8\n",
      "0 8 4\n",
      "4 8 6\n",
      "4 6 5\n",
      "4 5 4\n",
      "5, not in list\n"
     ]
    }
   ],
   "source": [
    "num = 5\n",
    "left = 0\n",
    "right = len(a)-1\n",
    "print(left,right)\n",
    "middle = (left+right)//2\n",
    "while middle > 0 :  \n",
    "    middle = (left+right)//2\n",
    "    print(left,right,middle)\n",
    "    if left == middle or right == middle:\n",
    "        print(f'{num}, not in list')\n",
    "        break\n",
    "    elif a[middle] == num:\n",
    "        print(f'{num} found at index {middle}')\n",
    "    elif a[middle] > num:\n",
    "        right = middle\n",
    "    elif a[middle] < num:\n",
    "        left = middle\n",
    "\n"
   ]
  },
  {
   "cell_type": "code",
   "execution_count": null,
   "id": "f5f4f076",
   "metadata": {},
   "outputs": [],
   "source": [
    "def brute_binary_search(array, number):\n",
    "    left = 0\n",
    "    right = len(array) - 1\n",
    "    # middle = (left+right)//2\n",
    "    while left<=right:\n",
    "        middle = (left+right)//2\n",
    "        if left == middle or right == middle:\n",
    "            return f'{number} not found in array'\n",
    "        if array[middle] == number:\n",
    "            return f'{number} found at index {middle}'\n",
    "        elif array[middle] > number:\n",
    "            right = middle\n",
    "        elif array[middle] < number:\n",
    "            left = middle"
   ]
  },
  {
   "cell_type": "code",
   "execution_count": null,
   "id": "84ec65d2",
   "metadata": {},
   "outputs": [
    {
     "data": {
      "text/plain": [
       "'49 found at index 28'"
      ]
     },
     "execution_count": 67,
     "metadata": {},
     "output_type": "execute_result"
    }
   ],
   "source": [
    "out2 = brute_binary_search(a,49)\n",
    "out2"
   ]
  },
  {
   "cell_type": "code",
   "execution_count": 68,
   "id": "000e0cb2",
   "metadata": {},
   "outputs": [],
   "source": [
    "def binary_search(array, number):\n",
    "    left = 0\n",
    "    right = len(array) -1\n",
    "    while left<=right:\n",
    "        middle = (left+right)//2\n",
    "        if number == array[middle]:\n",
    "            return 1\n",
    "        elif number < array[middle]:\n",
    "            right = middle -1\n",
    "        elif number > array[middle]:\n",
    "            left = middle + 1\n",
    "    return -1"
   ]
  }
 ],
 "metadata": {
  "kernelspec": {
   "display_name": "Python 3",
   "language": "python",
   "name": "python3"
  },
  "language_info": {
   "codemirror_mode": {
    "name": "ipython",
    "version": 3
   },
   "file_extension": ".py",
   "mimetype": "text/x-python",
   "name": "python",
   "nbconvert_exporter": "python",
   "pygments_lexer": "ipython3",
   "version": "3.12.10"
  }
 },
 "nbformat": 4,
 "nbformat_minor": 5
}
